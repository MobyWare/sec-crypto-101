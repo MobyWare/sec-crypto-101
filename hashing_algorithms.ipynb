{
 "cells": [
  {
   "cell_type": "markdown",
   "metadata": {},
   "source": [
    "# Part A - Compute hash for file"
   ]
  },
  {
   "cell_type": "markdown",
   "metadata": {},
   "source": [
    "# Notes\n",
    "Found that different repos use different versions of SHA though all seem to go with MD5.\n",
    "Also found that git uses a padding of __blob__ then the file size."
   ]
  },
  {
   "cell_type": "markdown",
   "metadata": {},
   "source": [
    "## Using two examples to illustrate *notes*"
   ]
  },
  {
   "cell_type": "markdown",
   "metadata": {},
   "source": [
    "### Example 1 - MDSN ISO \n",
    "Using SQL Server 2014 Developer Edition\n",
    "Expected SHA1 - __f73f430f55a71da219fc7257a3a28e8fc142530f__\n",
    "![Image of MSSQL 2014 in MSDN](msdn_mssql2014_sha1.jpg)"
   ]
  },
  {
   "cell_type": "code",
   "execution_count": 20,
   "metadata": {
    "collapsed": false
   },
   "outputs": [
    {
     "name": "stdout",
     "output_type": "stream",
     "text": [
      "f73f430f55a71da219fc7257a3a28e8fc142530f\n"
     ]
    }
   ],
   "source": [
    "filePath = \"C:/Users/dickm/Documents/Source/en_sql_server_2014_developer_edition_x64_dvd_3940406.iso\"\n",
    "print hashfile(filePath, \"SHA1\")"
   ]
  },
  {
   "cell_type": "markdown",
   "metadata": {},
   "source": [
    "### Example 2 - Apache Spark 1.6.0 Tarball \n",
    "Apache Spark 1.6.0 from site\n",
    "Expected digests:\n",
    "* MD5 - __624b161f6770a6e0e00e5716afd0ea0b__\n",
    "* SHA5 - __69fe35e1366739bd80310b3097c98f4176080d93c2e7a0ae0349aa6e413ce96b2ee74a53d3df0a21f440eb9f5bf4f2d22ded6ba9da0d6010bff6064b458a1c1b__\n",
    "![Image of MSSQL 2014 in MSDN](apachespark_md5_and_sha5.jpg)"
   ]
  },
  {
   "cell_type": "code",
   "execution_count": 17,
   "metadata": {
    "collapsed": false
   },
   "outputs": [
    {
     "name": "stdout",
     "output_type": "stream",
     "text": [
      "624b161f6770a6e0e00e5716afd0ea0b\n",
      "69fe35e1366739bd80310b3097c98f4176080d93c2e7a0ae0349aa6e413ce96b2ee74a53d3df0a21f440eb9f5bf4f2d22ded6ba9da0d6010bff6064b458a1c1b\n"
     ]
    }
   ],
   "source": [
    "filePath = \"C:/Applications/spark-1.6.0-bin-hadoop2.6.tgz\"\n",
    "print hashfile(filePath)\n",
    "print hashfile(filePath, \"SHA5\")"
   ]
  },
  {
   "cell_type": "markdown",
   "metadata": {},
   "source": [
    "## Function Definitions"
   ]
  },
  {
   "cell_type": "code",
   "execution_count": 19,
   "metadata": {
    "collapsed": true
   },
   "outputs": [],
   "source": [
    "import hashlib\n",
    "\n",
    "def hashfile(filepath, algorithm=\"MD5\"):\n",
    "    if algorithm == \"SHA1\":\n",
    "        hasher = hashlib.sha1()\n",
    "    elif algorithm == \"SHA2\":\n",
    "        hasher = hashlib.sha256()\n",
    "    elif algorithm == \"SHA5\":\n",
    "        hasher = hashlib.sha512()\n",
    "    else:\n",
    "        hasher = hashlib.md5()\n",
    "\n",
    "    f = open(filepath, 'rb')\n",
    "    try:\n",
    "        data = f.read()\n",
    "        #hasher.update(\"blob %u\\0\" % len(data)) # for git hash only.\n",
    "        hasher.update(data)\n",
    "    finally:\n",
    "        f.close()\n",
    "    return hasher.hexdigest()"
   ]
  }
 ],
 "metadata": {
  "kernelspec": {
   "display_name": "Python 2",
   "language": "python",
   "name": "python2"
  },
  "language_info": {
   "codemirror_mode": {
    "name": "ipython",
    "version": 2
   },
   "file_extension": ".py",
   "mimetype": "text/x-python",
   "name": "python",
   "nbconvert_exporter": "python",
   "pygments_lexer": "ipython2",
   "version": "2.7.11"
  }
 },
 "nbformat": 4,
 "nbformat_minor": 0
}
